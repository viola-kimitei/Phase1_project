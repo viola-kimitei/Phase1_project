


import numpy as np
import pandas as pd
import matplotlib.pyplot as plt
import seaborn as sns


df = pd.read_csv('AviationData.csv', encoding='latin1')
df.head()





df.info()





len(df.Country.unique())


df.Country.unique()






