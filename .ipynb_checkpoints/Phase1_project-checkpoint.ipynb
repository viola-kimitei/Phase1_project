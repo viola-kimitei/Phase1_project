{
 "cells": [
  {
   "cell_type": "code",
   "execution_count": null,
   "id": "cac0b1f8-e2ef-4725-8715-3a2e66f9a258",
   "metadata": {},
   "outputs": [],
   "source": []
  },
  {
   "cell_type": "code",
   "execution_count": 1,
   "id": "9bf2078e-876d-4470-87a1-a132d16e4a67",
   "metadata": {},
   "outputs": [],
   "source": [
    "import numpy as np \n",
    "import pandas as pd\n",
    "import plotly.express as px\n",
    "import matplotlib.pyplot as plt\n",
    "import seaborn as sns\n"
   ]
  },
  {
   "cell_type": "code",
   "execution_count": 2,
   "id": "12b793ed-4114-4d4e-a722-01b3fe780e55",
   "metadata": {},
   "outputs": [
    {
     "data": {
      "text/html": [
       "<div>\n",
       "<style scoped>\n",
       "    .dataframe tbody tr th:only-of-type {\n",
       "        vertical-align: middle;\n",
       "    }\n",
       "\n",
       "    .dataframe tbody tr th {\n",
       "        vertical-align: top;\n",
       "    }\n",
       "\n",
       "    .dataframe thead th {\n",
       "        text-align: right;\n",
       "    }\n",
       "</style>\n",
       "<table border=\"1\" class=\"dataframe\">\n",
       "  <thead>\n",
       "    <tr style=\"text-align: right;\">\n",
       "      <th></th>\n",
       "      <th>Event.Id</th>\n",
       "      <th>Investigation.Type</th>\n",
       "      <th>Accident.Number</th>\n",
       "      <th>Event.Date</th>\n",
       "      <th>Location</th>\n",
       "      <th>Country</th>\n",
       "      <th>Latitude</th>\n",
       "      <th>Longitude</th>\n",
       "      <th>Airport.Code</th>\n",
       "      <th>Airport.Name</th>\n",
       "      <th>...</th>\n",
       "      <th>Purpose.of.flight</th>\n",
       "      <th>Air.carrier</th>\n",
       "      <th>Total.Fatal.Injuries</th>\n",
       "      <th>Total.Serious.Injuries</th>\n",
       "      <th>Total.Minor.Injuries</th>\n",
       "      <th>Total.Uninjured</th>\n",
       "      <th>Weather.Condition</th>\n",
       "      <th>Broad.phase.of.flight</th>\n",
       "      <th>Report.Status</th>\n",
       "      <th>Publication.Date</th>\n",
       "    </tr>\n",
       "  </thead>\n",
       "  <tbody>\n",
       "    <tr>\n",
       "      <th>0</th>\n",
       "      <td>20001218X45444</td>\n",
       "      <td>Accident</td>\n",
       "      <td>SEA87LA080</td>\n",
       "      <td>1948-10-24</td>\n",
       "      <td>MOOSE CREEK, ID</td>\n",
       "      <td>United States</td>\n",
       "      <td>NaN</td>\n",
       "      <td>NaN</td>\n",
       "      <td>NaN</td>\n",
       "      <td>NaN</td>\n",
       "      <td>...</td>\n",
       "      <td>Personal</td>\n",
       "      <td>NaN</td>\n",
       "      <td>2.0</td>\n",
       "      <td>0.0</td>\n",
       "      <td>0.0</td>\n",
       "      <td>0.0</td>\n",
       "      <td>UNK</td>\n",
       "      <td>Cruise</td>\n",
       "      <td>Probable Cause</td>\n",
       "      <td>NaN</td>\n",
       "    </tr>\n",
       "    <tr>\n",
       "      <th>1</th>\n",
       "      <td>20001218X45447</td>\n",
       "      <td>Accident</td>\n",
       "      <td>LAX94LA336</td>\n",
       "      <td>1962-07-19</td>\n",
       "      <td>BRIDGEPORT, CA</td>\n",
       "      <td>United States</td>\n",
       "      <td>NaN</td>\n",
       "      <td>NaN</td>\n",
       "      <td>NaN</td>\n",
       "      <td>NaN</td>\n",
       "      <td>...</td>\n",
       "      <td>Personal</td>\n",
       "      <td>NaN</td>\n",
       "      <td>4.0</td>\n",
       "      <td>0.0</td>\n",
       "      <td>0.0</td>\n",
       "      <td>0.0</td>\n",
       "      <td>UNK</td>\n",
       "      <td>Unknown</td>\n",
       "      <td>Probable Cause</td>\n",
       "      <td>19-09-1996</td>\n",
       "    </tr>\n",
       "    <tr>\n",
       "      <th>2</th>\n",
       "      <td>20061025X01555</td>\n",
       "      <td>Accident</td>\n",
       "      <td>NYC07LA005</td>\n",
       "      <td>1974-08-30</td>\n",
       "      <td>Saltville, VA</td>\n",
       "      <td>United States</td>\n",
       "      <td>36.922223</td>\n",
       "      <td>-81.878056</td>\n",
       "      <td>NaN</td>\n",
       "      <td>NaN</td>\n",
       "      <td>...</td>\n",
       "      <td>Personal</td>\n",
       "      <td>NaN</td>\n",
       "      <td>3.0</td>\n",
       "      <td>NaN</td>\n",
       "      <td>NaN</td>\n",
       "      <td>NaN</td>\n",
       "      <td>IMC</td>\n",
       "      <td>Cruise</td>\n",
       "      <td>Probable Cause</td>\n",
       "      <td>26-02-2007</td>\n",
       "    </tr>\n",
       "    <tr>\n",
       "      <th>3</th>\n",
       "      <td>20001218X45448</td>\n",
       "      <td>Accident</td>\n",
       "      <td>LAX96LA321</td>\n",
       "      <td>1977-06-19</td>\n",
       "      <td>EUREKA, CA</td>\n",
       "      <td>United States</td>\n",
       "      <td>NaN</td>\n",
       "      <td>NaN</td>\n",
       "      <td>NaN</td>\n",
       "      <td>NaN</td>\n",
       "      <td>...</td>\n",
       "      <td>Personal</td>\n",
       "      <td>NaN</td>\n",
       "      <td>2.0</td>\n",
       "      <td>0.0</td>\n",
       "      <td>0.0</td>\n",
       "      <td>0.0</td>\n",
       "      <td>IMC</td>\n",
       "      <td>Cruise</td>\n",
       "      <td>Probable Cause</td>\n",
       "      <td>12-09-2000</td>\n",
       "    </tr>\n",
       "    <tr>\n",
       "      <th>4</th>\n",
       "      <td>20041105X01764</td>\n",
       "      <td>Accident</td>\n",
       "      <td>CHI79FA064</td>\n",
       "      <td>1979-08-02</td>\n",
       "      <td>Canton, OH</td>\n",
       "      <td>United States</td>\n",
       "      <td>NaN</td>\n",
       "      <td>NaN</td>\n",
       "      <td>NaN</td>\n",
       "      <td>NaN</td>\n",
       "      <td>...</td>\n",
       "      <td>Personal</td>\n",
       "      <td>NaN</td>\n",
       "      <td>1.0</td>\n",
       "      <td>2.0</td>\n",
       "      <td>NaN</td>\n",
       "      <td>0.0</td>\n",
       "      <td>VMC</td>\n",
       "      <td>Approach</td>\n",
       "      <td>Probable Cause</td>\n",
       "      <td>16-04-1980</td>\n",
       "    </tr>\n",
       "  </tbody>\n",
       "</table>\n",
       "<p>5 rows × 31 columns</p>\n",
       "</div>"
      ],
      "text/plain": [
       "         Event.Id Investigation.Type Accident.Number  Event.Date  \\\n",
       "0  20001218X45444           Accident      SEA87LA080  1948-10-24   \n",
       "1  20001218X45447           Accident      LAX94LA336  1962-07-19   \n",
       "2  20061025X01555           Accident      NYC07LA005  1974-08-30   \n",
       "3  20001218X45448           Accident      LAX96LA321  1977-06-19   \n",
       "4  20041105X01764           Accident      CHI79FA064  1979-08-02   \n",
       "\n",
       "          Location        Country   Latitude   Longitude Airport.Code  \\\n",
       "0  MOOSE CREEK, ID  United States        NaN         NaN          NaN   \n",
       "1   BRIDGEPORT, CA  United States        NaN         NaN          NaN   \n",
       "2    Saltville, VA  United States  36.922223  -81.878056          NaN   \n",
       "3       EUREKA, CA  United States        NaN         NaN          NaN   \n",
       "4       Canton, OH  United States        NaN         NaN          NaN   \n",
       "\n",
       "  Airport.Name  ... Purpose.of.flight Air.carrier Total.Fatal.Injuries  \\\n",
       "0          NaN  ...          Personal         NaN                  2.0   \n",
       "1          NaN  ...          Personal         NaN                  4.0   \n",
       "2          NaN  ...          Personal         NaN                  3.0   \n",
       "3          NaN  ...          Personal         NaN                  2.0   \n",
       "4          NaN  ...          Personal         NaN                  1.0   \n",
       "\n",
       "  Total.Serious.Injuries Total.Minor.Injuries Total.Uninjured  \\\n",
       "0                    0.0                  0.0             0.0   \n",
       "1                    0.0                  0.0             0.0   \n",
       "2                    NaN                  NaN             NaN   \n",
       "3                    0.0                  0.0             0.0   \n",
       "4                    2.0                  NaN             0.0   \n",
       "\n",
       "  Weather.Condition  Broad.phase.of.flight   Report.Status Publication.Date  \n",
       "0               UNK                 Cruise  Probable Cause              NaN  \n",
       "1               UNK                Unknown  Probable Cause       19-09-1996  \n",
       "2               IMC                 Cruise  Probable Cause       26-02-2007  \n",
       "3               IMC                 Cruise  Probable Cause       12-09-2000  \n",
       "4               VMC               Approach  Probable Cause       16-04-1980  \n",
       "\n",
       "[5 rows x 31 columns]"
      ]
     },
     "execution_count": 2,
     "metadata": {},
     "output_type": "execute_result"
    }
   ],
   "source": [
    "df = pd.read_csv('AviationData.csv', encoding='latin1', low_memory=False)\n",
    "df.head()"
   ]
  },
  {
   "cell_type": "markdown",
   "id": "56cfbaa7-b781-40f0-9c67-b12a2c4135d2",
   "metadata": {},
   "source": [
    "# Getting to know the data"
   ]
  },
  {
   "cell_type": "code",
   "execution_count": 4,
   "id": "ae28b941-3c19-456d-8a26-704b83290052",
   "metadata": {},
   "outputs": [
    {
     "name": "stdout",
     "output_type": "stream",
     "text": [
      "<class 'pandas.core.frame.DataFrame'>\n",
      "RangeIndex: 88889 entries, 0 to 88888\n",
      "Data columns (total 31 columns):\n",
      " #   Column                  Non-Null Count  Dtype  \n",
      "---  ------                  --------------  -----  \n",
      " 0   Event.Id                88889 non-null  object \n",
      " 1   Investigation.Type      88889 non-null  object \n",
      " 2   Accident.Number         88889 non-null  object \n",
      " 3   Event.Date              88889 non-null  object \n",
      " 4   Location                88837 non-null  object \n",
      " 5   Country                 88663 non-null  object \n",
      " 6   Latitude                34382 non-null  object \n",
      " 7   Longitude               34373 non-null  object \n",
      " 8   Airport.Code            50132 non-null  object \n",
      " 9   Airport.Name            52704 non-null  object \n",
      " 10  Injury.Severity         87889 non-null  object \n",
      " 11  Aircraft.damage         85695 non-null  object \n",
      " 12  Aircraft.Category       32287 non-null  object \n",
      " 13  Registration.Number     87507 non-null  object \n",
      " 14  Make                    88826 non-null  object \n",
      " 15  Model                   88797 non-null  object \n",
      " 16  Amateur.Built           88787 non-null  object \n",
      " 17  Number.of.Engines       82805 non-null  float64\n",
      " 18  Engine.Type             81793 non-null  object \n",
      " 19  FAR.Description         32023 non-null  object \n",
      " 20  Schedule                12582 non-null  object \n",
      " 21  Purpose.of.flight       82697 non-null  object \n",
      " 22  Air.carrier             16648 non-null  object \n",
      " 23  Total.Fatal.Injuries    77488 non-null  float64\n",
      " 24  Total.Serious.Injuries  76379 non-null  float64\n",
      " 25  Total.Minor.Injuries    76956 non-null  float64\n",
      " 26  Total.Uninjured         82977 non-null  float64\n",
      " 27  Weather.Condition       84397 non-null  object \n",
      " 28  Broad.phase.of.flight   61724 non-null  object \n",
      " 29  Report.Status           82505 non-null  object \n",
      " 30  Publication.Date        75118 non-null  object \n",
      "dtypes: float64(5), object(26)\n",
      "memory usage: 21.0+ MB\n"
     ]
    }
   ],
   "source": [
    "df.info()"
   ]
  },
  {
   "cell_type": "code",
   "execution_count": 5,
   "id": "78486c69-32e9-48f0-b8e7-b7c86f33ad2e",
   "metadata": {},
   "outputs": [
    {
     "data": {
      "text/plain": [
       "(88889, 31)"
      ]
     },
     "execution_count": 5,
     "metadata": {},
     "output_type": "execute_result"
    }
   ],
   "source": [
    "df.shape"
   ]
  },
  {
   "cell_type": "markdown",
   "id": "f8799833-800c-4116-a247-57cf7d2aba6a",
   "metadata": {},
   "source": [
    "#### Number of countries"
   ]
  },
  {
   "cell_type": "code",
   "execution_count": 7,
   "id": "7dab0aed-9875-42f0-a3fa-4a4d24ac750c",
   "metadata": {},
   "outputs": [
    {
     "data": {
      "text/plain": [
       "220"
      ]
     },
     "execution_count": 7,
     "metadata": {},
     "output_type": "execute_result"
    }
   ],
   "source": [
    "len(df.Country.unique())"
   ]
  },
  {
   "cell_type": "code",
   "execution_count": 8,
   "id": "0992b4e3-7c44-4899-8174-7102287561b6",
   "metadata": {},
   "outputs": [
    {
     "data": {
      "text/plain": [
       "array(['United States', nan, 'GULF OF MEXICO', 'Puerto Rico',\n",
       "       'ATLANTIC OCEAN', 'HIGH ISLAND', 'Bahamas', 'MISSING', 'Pakistan',\n",
       "       'Angola', 'Germany', 'Korea, Republic Of', 'Martinique',\n",
       "       'American Samoa', 'PACIFIC OCEAN', 'Canada', 'Bolivia', 'Mexico',\n",
       "       'Dominica', 'Netherlands Antilles', 'Iceland', 'Greece', 'Guam',\n",
       "       'Australia', 'CARIBBEAN SEA', 'West Indies', 'Japan',\n",
       "       'Philippines', 'Venezuela', 'Bermuda', 'San Juan Islands',\n",
       "       'Colombia', 'El Salvador', 'United Kingdom',\n",
       "       'British Virgin Islands', 'Netherlands', 'Costa Rica',\n",
       "       'Mozambique', 'Jamaica', 'Panama', 'Guyana', 'Norway', 'Hong Kong',\n",
       "       'Portugal', 'Malaysia', 'Turks And Caicos Islands',\n",
       "       'Northern Mariana Islands', 'Dominican Republic', 'Suriname',\n",
       "       'Honduras', 'Congo', 'Belize', 'Guatemala', 'Anguilla', 'France',\n",
       "       'St Vincent And The Grenadines', 'Haiti', 'Montserrat',\n",
       "       'Papua New Guinea', 'Cayman Islands', 'Sweden', 'Taiwan',\n",
       "       'Senegal', 'Barbados', 'BLOCK 651A', 'Brazil', 'Mauritius',\n",
       "       'Argentina', 'Kenya', 'Ecuador', 'Aruba', 'Saudi Arabia', 'Cuba',\n",
       "       'Italy', 'French Guiana', 'Denmark', 'Sudan', 'Spain',\n",
       "       'Federated States Of Micronesia', 'St Lucia', 'Switzerland',\n",
       "       'Central African Republic', 'Algeria', 'Turkey', 'Nicaragua',\n",
       "       'Marshall Islands', 'Trinidad And Tobago', 'Poland', 'Belarus',\n",
       "       'Austria', 'Malta', 'Cameroon', 'Solomon Islands', 'Zambia',\n",
       "       'Peru', 'Croatia', 'Fiji', 'South Africa', 'India', 'Ethiopia',\n",
       "       'Ireland', 'Chile', 'Antigua And Barbuda', 'Uganda', 'China',\n",
       "       'Cambodia', 'Paraguay', 'Thailand', 'Belgium', 'Gambia', 'Uruguay',\n",
       "       'Tanzania', 'Mali', 'Indonesia', 'Bahrain', 'Kazakhstan', 'Egypt',\n",
       "       'Russia', 'Cyprus', \"Cote D'ivoire\", 'Nigeria', 'Greenland',\n",
       "       'Vietnam', 'New Zealand', 'Singapore', 'Ghana', 'Gabon', 'Nepal',\n",
       "       'Slovakia', 'Finland', 'Liberia', 'Romania', 'Maldives',\n",
       "       'Antarctica', 'Zimbabwe', 'Botswana', 'Isle of Man', 'Latvia',\n",
       "       'Niger', 'French Polynesia', 'Guadeloupe', 'Ivory Coast',\n",
       "       'Tunisia', 'Eritrea', 'Gibraltar', 'Namibia', 'Czech Republic',\n",
       "       'Benin', 'Bosnia And Herzegovina', 'Israel', 'Estonia',\n",
       "       'St Kitts And Nevis', 'Sierra Leone', 'Corsica', 'Scotland',\n",
       "       'Reunion', 'United Arab Emirates', 'Afghanistan', 'Ukraine',\n",
       "       'Hungary', 'Bangladesh', 'Morocco', 'Iraq', 'Jordan', 'Qatar',\n",
       "       'Madagascar', 'Malawi', 'Unknown', 'Central Africa', 'South Sudan',\n",
       "       'Saint Barthelemy', 'Micronesia', 'South Korea', 'Kyrgyzstan',\n",
       "       'Turks And Caicos', 'Eswatini', 'Tokelau', 'Sint Maarten', 'Macao',\n",
       "       'Seychelles', 'Rwanda', 'Palau', 'Luxembourg', 'Lebanon',\n",
       "       'Bosnia and Herzegovina', 'Libya', 'Guinea',\n",
       "       'Saint Vincent and the Grenadines', 'UN', 'Iran', 'Lithuania',\n",
       "       'Malampa', 'Antigua and Barbuda', 'AY', 'Chad', 'Cayenne',\n",
       "       'New Caledonia', 'Yemen', 'Slovenia', 'Nauru', 'Niue', 'Bulgaria',\n",
       "       'Republic of North Macedonia', 'Virgin Islands', 'Somalia',\n",
       "       'Pacific Ocean', 'Obyan', 'Mauritania', 'Albania', 'Wolseley',\n",
       "       'Wallis and Futuna', 'Saint Pierre and Miquelon', 'Georgia',\n",
       "       \"Côte d'Ivoire\", 'South Korean', 'Serbia', 'MU', 'Guernsey',\n",
       "       'Great Britain', 'Turks and Caicos Islands'], dtype=object)"
      ]
     },
     "execution_count": 8,
     "metadata": {},
     "output_type": "execute_result"
    }
   ],
   "source": [
    "df.Country.unique()"
   ]
  },
  {
   "cell_type": "markdown",
   "id": "b4c56a54-884e-40eb-aed8-519d20edccb7",
   "metadata": {},
   "source": [
    "# Cleaning Data"
   ]
  },
  {
   "cell_type": "code",
   "execution_count": 10,
   "id": "3490b048-b09c-4bf3-95ed-2a48e573ec34",
   "metadata": {},
   "outputs": [
    {
     "data": {
      "text/plain": [
       "Event.Id                      0\n",
       "Investigation.Type            0\n",
       "Accident.Number               0\n",
       "Event.Date                    0\n",
       "Location                     52\n",
       "Country                     226\n",
       "Latitude                  54507\n",
       "Longitude                 54516\n",
       "Airport.Code              38757\n",
       "Airport.Name              36185\n",
       "Injury.Severity            1000\n",
       "Aircraft.damage            3194\n",
       "Aircraft.Category         56602\n",
       "Registration.Number        1382\n",
       "Make                         63\n",
       "Model                        92\n",
       "Amateur.Built               102\n",
       "Number.of.Engines          6084\n",
       "Engine.Type                7096\n",
       "FAR.Description           56866\n",
       "Schedule                  76307\n",
       "Purpose.of.flight          6192\n",
       "Air.carrier               72241\n",
       "Total.Fatal.Injuries      11401\n",
       "Total.Serious.Injuries    12510\n",
       "Total.Minor.Injuries      11933\n",
       "Total.Uninjured            5912\n",
       "Weather.Condition          4492\n",
       "Broad.phase.of.flight     27165\n",
       "Report.Status              6384\n",
       "Publication.Date          13771\n",
       "dtype: int64"
      ]
     },
     "execution_count": 10,
     "metadata": {},
     "output_type": "execute_result"
    }
   ],
   "source": [
    "# Checking the number of missing values in each column\n",
    "df.isna().sum()"
   ]
  },
  {
   "cell_type": "code",
   "execution_count": 11,
   "id": "172d94bd-f0a0-4732-a766-da1f2c3025b5",
   "metadata": {},
   "outputs": [],
   "source": [
    "# working with dates by updating the event Date to datetime format\n",
    "df['Event.Date'] = pd.to_datetime(df['Event.Date'])"
   ]
  },
  {
   "cell_type": "code",
   "execution_count": 12,
   "id": "e09db390-c1f9-409f-a525-9ec4e90cc26e",
   "metadata": {},
   "outputs": [],
   "source": [
    "# Convert numerical columns from object to float/int where possible\n",
    "num_columns = [\"Total.Fatal.Injuries\", \"Total.Serious.Injuries\", \n",
    "               \"Total.Minor.Injuries\", \"Total.Uninjured\", \"Number.of.Engines\"]"
   ]
  },
  {
   "cell_type": "code",
   "execution_count": 13,
   "id": "fffd2286-0127-4255-892b-5460fa5e33ad",
   "metadata": {},
   "outputs": [],
   "source": [
    "for col in num_columns:\n",
    "    df[col] = pd.to_numeric(df[col], errors=\"coerce\")"
   ]
  },
  {
   "cell_type": "code",
   "execution_count": 14,
   "id": "b46d12ad-2304-470b-9aeb-694487aeac09",
   "metadata": {},
   "outputs": [
    {
     "name": "stdout",
     "output_type": "stream",
     "text": [
      "         Event.Id Investigation.Type Accident.Number Event.Date  \\\n",
      "0  20001218X45444           Accident      SEA87LA080 1948-10-24   \n",
      "1  20001218X45447           Accident      LAX94LA336 1962-07-19   \n",
      "2  20061025X01555           Accident      NYC07LA005 1974-08-30   \n",
      "3  20001218X45448           Accident      LAX96LA321 1977-06-19   \n",
      "4  20041105X01764           Accident      CHI79FA064 1979-08-02   \n",
      "\n",
      "          Location        Country   Latitude   Longitude Airport.Code  \\\n",
      "0  MOOSE CREEK, ID  United States        NaN         NaN          NaN   \n",
      "1   BRIDGEPORT, CA  United States        NaN         NaN          NaN   \n",
      "2    Saltville, VA  United States  36.922223  -81.878056          NaN   \n",
      "3       EUREKA, CA  United States        NaN         NaN          NaN   \n",
      "4       Canton, OH  United States        NaN         NaN          NaN   \n",
      "\n",
      "  Airport.Name  ... Air.carrier Total.Fatal.Injuries Total.Serious.Injuries  \\\n",
      "0          NaN  ...         NaN                  2.0                    0.0   \n",
      "1          NaN  ...         NaN                  4.0                    0.0   \n",
      "2          NaN  ...         NaN                  3.0                    NaN   \n",
      "3          NaN  ...         NaN                  2.0                    0.0   \n",
      "4          NaN  ...         NaN                  1.0                    2.0   \n",
      "\n",
      "  Total.Minor.Injuries Total.Uninjured Weather.Condition  \\\n",
      "0                  0.0             0.0               UNK   \n",
      "1                  0.0             0.0               UNK   \n",
      "2                  NaN             NaN               IMC   \n",
      "3                  0.0             0.0               IMC   \n",
      "4                  NaN             0.0               VMC   \n",
      "\n",
      "  Broad.phase.of.flight   Report.Status Publication.Date Event.Year  \n",
      "0                Cruise  Probable Cause              NaN       1948  \n",
      "1               Unknown  Probable Cause       19-09-1996       1962  \n",
      "2                Cruise  Probable Cause       26-02-2007       1974  \n",
      "3                Cruise  Probable Cause       12-09-2000       1977  \n",
      "4              Approach  Probable Cause       16-04-1980       1979  \n",
      "\n",
      "[5 rows x 32 columns]\n"
     ]
    }
   ],
   "source": [
    "# Setting a \"Years\" column\n",
    "df.loc[:,(\"Event.Year\")] = df.loc[:,(\"Event.Date\")].dt.year\n",
    "df[\"Event.Year\"].unique()\n",
    "print(df.head())"
   ]
  },
  {
   "cell_type": "code",
   "execution_count": 15,
   "id": "09a9d474-419f-4541-a5f6-84f35a7e70e5",
   "metadata": {},
   "outputs": [],
   "source": [
    "# Replace spaces and special characters with underscores\n",
    "df.columns = df.columns.str.replace(r'\\W', '_', regex=True)"
   ]
  },
  {
   "cell_type": "code",
   "execution_count": 16,
   "id": "de007ea4-61cc-4339-8e24-71f1ab89701a",
   "metadata": {},
   "outputs": [],
   "source": [
    "# Drop columns with excessive missing values (threshold: 40% missing)\n",
    "missing_threshold = 0.4 * len(df)  # 40% of total rows\n",
    "df_cleaned = df.dropna(thresh=missing_threshold, axis=1)"
   ]
  },
  {
   "cell_type": "markdown",
   "id": "36ec96bd-4541-475c-8fe4-aa86700d8d47",
   "metadata": {},
   "source": [
    "Sorting Reports by Country and Number of Reports"
   ]
  },
  {
   "cell_type": "code",
   "execution_count": 18,
   "id": "a1d42345-aa95-4652-aa0c-afb01d946378",
   "metadata": {},
   "outputs": [
    {
     "data": {
      "text/html": [
       "<div>\n",
       "<style scoped>\n",
       "    .dataframe tbody tr th:only-of-type {\n",
       "        vertical-align: middle;\n",
       "    }\n",
       "\n",
       "    .dataframe tbody tr th {\n",
       "        vertical-align: top;\n",
       "    }\n",
       "\n",
       "    .dataframe thead th {\n",
       "        text-align: right;\n",
       "    }\n",
       "</style>\n",
       "<table border=\"1\" class=\"dataframe\">\n",
       "  <thead>\n",
       "    <tr style=\"text-align: right;\">\n",
       "      <th></th>\n",
       "      <th>Country</th>\n",
       "      <th>Count</th>\n",
       "    </tr>\n",
       "  </thead>\n",
       "  <tbody>\n",
       "    <tr>\n",
       "      <th>207</th>\n",
       "      <td>United States</td>\n",
       "      <td>82248</td>\n",
       "    </tr>\n",
       "    <tr>\n",
       "      <th>29</th>\n",
       "      <td>Brazil</td>\n",
       "      <td>374</td>\n",
       "    </tr>\n",
       "    <tr>\n",
       "      <th>35</th>\n",
       "      <td>Canada</td>\n",
       "      <td>359</td>\n",
       "    </tr>\n",
       "    <tr>\n",
       "      <th>127</th>\n",
       "      <td>Mexico</td>\n",
       "      <td>358</td>\n",
       "    </tr>\n",
       "    <tr>\n",
       "      <th>206</th>\n",
       "      <td>United Kingdom</td>\n",
       "      <td>344</td>\n",
       "    </tr>\n",
       "    <tr>\n",
       "      <th>13</th>\n",
       "      <td>Australia</td>\n",
       "      <td>300</td>\n",
       "    </tr>\n",
       "    <tr>\n",
       "      <th>66</th>\n",
       "      <td>France</td>\n",
       "      <td>236</td>\n",
       "    </tr>\n",
       "    <tr>\n",
       "      <th>184</th>\n",
       "      <td>Spain</td>\n",
       "      <td>226</td>\n",
       "    </tr>\n",
       "    <tr>\n",
       "      <th>16</th>\n",
       "      <td>Bahamas</td>\n",
       "      <td>216</td>\n",
       "    </tr>\n",
       "    <tr>\n",
       "      <th>73</th>\n",
       "      <td>Germany</td>\n",
       "      <td>215</td>\n",
       "    </tr>\n",
       "  </tbody>\n",
       "</table>\n",
       "</div>"
      ],
      "text/plain": [
       "            Country  Count\n",
       "207   United States  82248\n",
       "29           Brazil    374\n",
       "35           Canada    359\n",
       "127          Mexico    358\n",
       "206  United Kingdom    344\n",
       "13        Australia    300\n",
       "66           France    236\n",
       "184           Spain    226\n",
       "16          Bahamas    216\n",
       "73          Germany    215"
      ]
     },
     "execution_count": 18,
     "metadata": {},
     "output_type": "execute_result"
    }
   ],
   "source": [
    "df_reports_count = df.groupby(\"Country\").size().reset_index(name=\"Count\").sort_values(by=\"Count\", ascending=False)\n",
    "df_reports_count.head(10)"
   ]
  },
  {
   "cell_type": "code",
   "execution_count": 19,
   "id": "ea802376-eb8a-4f0a-a859-f8f2a5b3d745",
   "metadata": {},
   "outputs": [
    {
     "name": "stdout",
     "output_type": "stream",
     "text": [
      "<class 'pandas.core.frame.DataFrame'>\n",
      "RangeIndex: 88889 entries, 0 to 88888\n",
      "Data columns (total 32 columns):\n",
      " #   Column                  Non-Null Count  Dtype         \n",
      "---  ------                  --------------  -----         \n",
      " 0   Event_Id                88889 non-null  object        \n",
      " 1   Investigation_Type      88889 non-null  object        \n",
      " 2   Accident_Number         88889 non-null  object        \n",
      " 3   Event_Date              88889 non-null  datetime64[ns]\n",
      " 4   Location                88837 non-null  object        \n",
      " 5   Country                 88663 non-null  object        \n",
      " 6   Latitude                34382 non-null  object        \n",
      " 7   Longitude               34373 non-null  object        \n",
      " 8   Airport_Code            50132 non-null  object        \n",
      " 9   Airport_Name            52704 non-null  object        \n",
      " 10  Injury_Severity         87889 non-null  object        \n",
      " 11  Aircraft_damage         85695 non-null  object        \n",
      " 12  Aircraft_Category       32287 non-null  object        \n",
      " 13  Registration_Number     87507 non-null  object        \n",
      " 14  Make                    88826 non-null  object        \n",
      " 15  Model                   88797 non-null  object        \n",
      " 16  Amateur_Built           88787 non-null  object        \n",
      " 17  Number_of_Engines       82805 non-null  float64       \n",
      " 18  Engine_Type             81793 non-null  object        \n",
      " 19  FAR_Description         32023 non-null  object        \n",
      " 20  Schedule                12582 non-null  object        \n",
      " 21  Purpose_of_flight       82697 non-null  object        \n",
      " 22  Air_carrier             16648 non-null  object        \n",
      " 23  Total_Fatal_Injuries    77488 non-null  float64       \n",
      " 24  Total_Serious_Injuries  76379 non-null  float64       \n",
      " 25  Total_Minor_Injuries    76956 non-null  float64       \n",
      " 26  Total_Uninjured         82977 non-null  float64       \n",
      " 27  Weather_Condition       84397 non-null  object        \n",
      " 28  Broad_phase_of_flight   61724 non-null  object        \n",
      " 29  Report_Status           82505 non-null  object        \n",
      " 30  Publication_Date        75118 non-null  object        \n",
      " 31  Event_Year              88889 non-null  int32         \n",
      "dtypes: datetime64[ns](1), float64(5), int32(1), object(25)\n",
      "memory usage: 21.4+ MB\n",
      "None\n",
      "         Event_Id Investigation_Type Accident_Number Event_Date  \\\n",
      "0  20001218X45444           Accident      SEA87LA080 1948-10-24   \n",
      "1  20001218X45447           Accident      LAX94LA336 1962-07-19   \n",
      "2  20061025X01555           Accident      NYC07LA005 1974-08-30   \n",
      "3  20001218X45448           Accident      LAX96LA321 1977-06-19   \n",
      "4  20041105X01764           Accident      CHI79FA064 1979-08-02   \n",
      "\n",
      "          Location        Country   Latitude   Longitude Airport_Code  \\\n",
      "0  MOOSE CREEK, ID  United States        NaN         NaN          NaN   \n",
      "1   BRIDGEPORT, CA  United States        NaN         NaN          NaN   \n",
      "2    Saltville, VA  United States  36.922223  -81.878056          NaN   \n",
      "3       EUREKA, CA  United States        NaN         NaN          NaN   \n",
      "4       Canton, OH  United States        NaN         NaN          NaN   \n",
      "\n",
      "  Airport_Name  ... Air_carrier Total_Fatal_Injuries Total_Serious_Injuries  \\\n",
      "0          NaN  ...         NaN                  2.0                    0.0   \n",
      "1          NaN  ...         NaN                  4.0                    0.0   \n",
      "2          NaN  ...         NaN                  3.0                    NaN   \n",
      "3          NaN  ...         NaN                  2.0                    0.0   \n",
      "4          NaN  ...         NaN                  1.0                    2.0   \n",
      "\n",
      "  Total_Minor_Injuries Total_Uninjured Weather_Condition  \\\n",
      "0                  0.0             0.0               UNK   \n",
      "1                  0.0             0.0               UNK   \n",
      "2                  NaN             NaN               IMC   \n",
      "3                  0.0             0.0               IMC   \n",
      "4                  NaN             0.0               VMC   \n",
      "\n",
      "  Broad_phase_of_flight   Report_Status Publication_Date Event_Year  \n",
      "0                Cruise  Probable Cause              NaN       1948  \n",
      "1               Unknown  Probable Cause       19-09-1996       1962  \n",
      "2                Cruise  Probable Cause       26-02-2007       1974  \n",
      "3                Cruise  Probable Cause       12-09-2000       1977  \n",
      "4              Approach  Probable Cause       16-04-1980       1979  \n",
      "\n",
      "[5 rows x 32 columns]\n"
     ]
    }
   ],
   "source": [
    "# Display updated info\n",
    "print(df.info())  # Show data types and missing values\n",
    "print(df.head())  # Display the first 5 rows"
   ]
  },
  {
   "cell_type": "markdown",
   "id": "f55c65e3-e460-4a6e-ba99-9eed2dc857bf",
   "metadata": {},
   "source": [
    "# Visualisation and Exploration"
   ]
  },
  {
   "cell_type": "code",
   "execution_count": 29,
   "id": "1cde0783-9838-43d1-a467-04caf22d7717",
   "metadata": {},
   "outputs": [],
   "source": [
    "# Create a new column for year\n",
    "df[\"Event.Year\"] = df[\"Event_Date\"].dt.year"
   ]
  },
  {
   "cell_type": "code",
   "execution_count": 31,
   "id": "fe1e3df2-de9f-4ad5-b2da-081e0a3be990",
   "metadata": {},
   "outputs": [
    {
     "ename": "KeyError",
     "evalue": "'Event.Year'",
     "output_type": "error",
     "traceback": [
      "\u001b[1;31m---------------------------------------------------------------------------\u001b[0m",
      "\u001b[1;31mKeyError\u001b[0m                                  Traceback (most recent call last)",
      "File \u001b[1;32m~\\anaconda3\\Lib\\site-packages\\pandas\\core\\indexes\\base.py:3805\u001b[0m, in \u001b[0;36mIndex.get_loc\u001b[1;34m(self, key)\u001b[0m\n\u001b[0;32m   3804\u001b[0m \u001b[38;5;28;01mtry\u001b[39;00m:\n\u001b[1;32m-> 3805\u001b[0m     \u001b[38;5;28;01mreturn\u001b[39;00m \u001b[38;5;28mself\u001b[39m\u001b[38;5;241m.\u001b[39m_engine\u001b[38;5;241m.\u001b[39mget_loc(casted_key)\n\u001b[0;32m   3806\u001b[0m \u001b[38;5;28;01mexcept\u001b[39;00m \u001b[38;5;167;01mKeyError\u001b[39;00m \u001b[38;5;28;01mas\u001b[39;00m err:\n",
      "File \u001b[1;32mindex.pyx:167\u001b[0m, in \u001b[0;36mpandas._libs.index.IndexEngine.get_loc\u001b[1;34m()\u001b[0m\n",
      "File \u001b[1;32mindex.pyx:196\u001b[0m, in \u001b[0;36mpandas._libs.index.IndexEngine.get_loc\u001b[1;34m()\u001b[0m\n",
      "File \u001b[1;32mpandas\\\\_libs\\\\hashtable_class_helper.pxi:7081\u001b[0m, in \u001b[0;36mpandas._libs.hashtable.PyObjectHashTable.get_item\u001b[1;34m()\u001b[0m\n",
      "File \u001b[1;32mpandas\\\\_libs\\\\hashtable_class_helper.pxi:7089\u001b[0m, in \u001b[0;36mpandas._libs.hashtable.PyObjectHashTable.get_item\u001b[1;34m()\u001b[0m\n",
      "\u001b[1;31mKeyError\u001b[0m: 'Event.Year'",
      "\nThe above exception was the direct cause of the following exception:\n",
      "\u001b[1;31mKeyError\u001b[0m                                  Traceback (most recent call last)",
      "Cell \u001b[1;32mIn[31], line 3\u001b[0m\n\u001b[0;32m      1\u001b[0m \u001b[38;5;66;03m# Plot the trend of accidents per year\u001b[39;00m\n\u001b[0;32m      2\u001b[0m plt\u001b[38;5;241m.\u001b[39mfigure(figsize\u001b[38;5;241m=\u001b[39m(\u001b[38;5;241m12\u001b[39m,\u001b[38;5;241m6\u001b[39m))\n\u001b[1;32m----> 3\u001b[0m sns\u001b[38;5;241m.\u001b[39mhistplot(df_cleaned[\u001b[38;5;124m\"\u001b[39m\u001b[38;5;124mEvent.Year\u001b[39m\u001b[38;5;124m\"\u001b[39m]\u001b[38;5;241m.\u001b[39mdropna(), bins\u001b[38;5;241m=\u001b[39m\u001b[38;5;241m50\u001b[39m, kde\u001b[38;5;241m=\u001b[39m\u001b[38;5;28;01mTrue\u001b[39;00m)\n\u001b[0;32m      4\u001b[0m plt\u001b[38;5;241m.\u001b[39mtitle(\u001b[38;5;124m\"\u001b[39m\u001b[38;5;124mNumber of Accidents Per Year\u001b[39m\u001b[38;5;124m\"\u001b[39m)\n\u001b[0;32m      5\u001b[0m plt\u001b[38;5;241m.\u001b[39mxlabel(\u001b[38;5;124m\"\u001b[39m\u001b[38;5;124mEvent.Year\u001b[39m\u001b[38;5;124m\"\u001b[39m)\n",
      "File \u001b[1;32m~\\anaconda3\\Lib\\site-packages\\pandas\\core\\frame.py:4102\u001b[0m, in \u001b[0;36mDataFrame.__getitem__\u001b[1;34m(self, key)\u001b[0m\n\u001b[0;32m   4100\u001b[0m \u001b[38;5;28;01mif\u001b[39;00m \u001b[38;5;28mself\u001b[39m\u001b[38;5;241m.\u001b[39mcolumns\u001b[38;5;241m.\u001b[39mnlevels \u001b[38;5;241m>\u001b[39m \u001b[38;5;241m1\u001b[39m:\n\u001b[0;32m   4101\u001b[0m     \u001b[38;5;28;01mreturn\u001b[39;00m \u001b[38;5;28mself\u001b[39m\u001b[38;5;241m.\u001b[39m_getitem_multilevel(key)\n\u001b[1;32m-> 4102\u001b[0m indexer \u001b[38;5;241m=\u001b[39m \u001b[38;5;28mself\u001b[39m\u001b[38;5;241m.\u001b[39mcolumns\u001b[38;5;241m.\u001b[39mget_loc(key)\n\u001b[0;32m   4103\u001b[0m \u001b[38;5;28;01mif\u001b[39;00m is_integer(indexer):\n\u001b[0;32m   4104\u001b[0m     indexer \u001b[38;5;241m=\u001b[39m [indexer]\n",
      "File \u001b[1;32m~\\anaconda3\\Lib\\site-packages\\pandas\\core\\indexes\\base.py:3812\u001b[0m, in \u001b[0;36mIndex.get_loc\u001b[1;34m(self, key)\u001b[0m\n\u001b[0;32m   3807\u001b[0m     \u001b[38;5;28;01mif\u001b[39;00m \u001b[38;5;28misinstance\u001b[39m(casted_key, \u001b[38;5;28mslice\u001b[39m) \u001b[38;5;129;01mor\u001b[39;00m (\n\u001b[0;32m   3808\u001b[0m         \u001b[38;5;28misinstance\u001b[39m(casted_key, abc\u001b[38;5;241m.\u001b[39mIterable)\n\u001b[0;32m   3809\u001b[0m         \u001b[38;5;129;01mand\u001b[39;00m \u001b[38;5;28many\u001b[39m(\u001b[38;5;28misinstance\u001b[39m(x, \u001b[38;5;28mslice\u001b[39m) \u001b[38;5;28;01mfor\u001b[39;00m x \u001b[38;5;129;01min\u001b[39;00m casted_key)\n\u001b[0;32m   3810\u001b[0m     ):\n\u001b[0;32m   3811\u001b[0m         \u001b[38;5;28;01mraise\u001b[39;00m InvalidIndexError(key)\n\u001b[1;32m-> 3812\u001b[0m     \u001b[38;5;28;01mraise\u001b[39;00m \u001b[38;5;167;01mKeyError\u001b[39;00m(key) \u001b[38;5;28;01mfrom\u001b[39;00m \u001b[38;5;21;01merr\u001b[39;00m\n\u001b[0;32m   3813\u001b[0m \u001b[38;5;28;01mexcept\u001b[39;00m \u001b[38;5;167;01mTypeError\u001b[39;00m:\n\u001b[0;32m   3814\u001b[0m     \u001b[38;5;66;03m# If we have a listlike key, _check_indexing_error will raise\u001b[39;00m\n\u001b[0;32m   3815\u001b[0m     \u001b[38;5;66;03m#  InvalidIndexError. Otherwise we fall through and re-raise\u001b[39;00m\n\u001b[0;32m   3816\u001b[0m     \u001b[38;5;66;03m#  the TypeError.\u001b[39;00m\n\u001b[0;32m   3817\u001b[0m     \u001b[38;5;28mself\u001b[39m\u001b[38;5;241m.\u001b[39m_check_indexing_error(key)\n",
      "\u001b[1;31mKeyError\u001b[0m: 'Event.Year'"
     ]
    },
    {
     "data": {
      "text/plain": [
       "<Figure size 1200x600 with 0 Axes>"
      ]
     },
     "metadata": {},
     "output_type": "display_data"
    }
   ],
   "source": [
    "# Plot the trend of accidents per year\n",
    "plt.figure(figsize=(12,6))\n",
    "sns.histplot(df_cleaned[\"Event.Year\"].dropna(), bins=50, kde=True)\n",
    "plt.title(\"Number of Accidents Per Year\")\n",
    "plt.xlabel(\"Event.Year\")\n",
    "plt.ylabel(\"Accident Count\")\n",
    "plt.show()"
   ]
  },
  {
   "cell_type": "markdown",
   "id": "abea98e7-5ed7-40dc-b73e-98de3d6187ce",
   "metadata": {},
   "source": [
    "# Top 10 Aircraft Manufacturers Involved in Accidents"
   ]
  },
  {
   "cell_type": "markdown",
   "id": "36ba9a18-b2c0-4434-af48-1f86ab270a85",
   "metadata": {},
   "source": [
    "#### Finding and visualizing the top manufacturers."
   ]
  },
  {
   "cell_type": "code",
   "execution_count": null,
   "id": "d09b9ad3-675d-489e-8df9-051d4f65def8",
   "metadata": {},
   "outputs": [],
   "source": [
    "# Count accidents by aircraft manufacturer\n",
    "top_makes = df[\"Make\"].value_counts().head(10)\n",
    "\n",
    "# Bar plot\n",
    "plt.figure(figsize=(12,6))\n",
    "sns.barplot(x=top_makes.index, y=top_makes.values, legend=False)\n",
    "plt.xticks(rotation=45)\n",
    "plt.title(\"Top 10 Aircraft Manufacturers in Accidents\")\n",
    "plt.xlabel(\"Aircraft Manufacturer\")\n",
    "plt.ylabel(\"Accident Count\")\n",
    "plt.show()"
   ]
  },
  {
   "cell_type": "markdown",
   "id": "d43cce0e-aa19-47d7-a5f3-01cbadf1a667",
   "metadata": {},
   "source": [
    "## Severity of Injuries"
   ]
  },
  {
   "cell_type": "markdown",
   "id": "c49604d2-7248-4735-ad51-47042bb23fca",
   "metadata": {},
   "source": [
    "#### Comparing the severity of injuries in accidents."
   ]
  },
  {
   "cell_type": "code",
   "execution_count": null,
   "id": "73488d69-9c9e-4b8b-bcd0-3ae557bdedf1",
   "metadata": {},
   "outputs": [],
   "source": [
    "# Replace NaN values with 0 for better visualization\n",
    "df.fillna(0, inplace=True)\n",
    "\n",
    "# Barplot of injuries\n",
    "plt.figure(figsize=(12,6))\n",
    "sns.barplot(data=df[[\"Total_Fatal_Injuries\", \"Total_Serious_Injuries\", \n",
    "                             \"Total_Minor_Injuries\", \"Total_Uninjured\"]])\n",
    "plt.title(\"Distribution of Injuries in Aviation Accidents\")\n",
    "plt.xlabel(\"Injury Type\")\n",
    "plt.ylabel(\"Count\")\n",
    "plt.show()"
   ]
  },
  {
   "cell_type": "markdown",
   "id": "c239be95-6842-4c84-b432-6d1659011f45",
   "metadata": {},
   "source": [
    "## Accidents by Flight Phase"
   ]
  },
  {
   "cell_type": "markdown",
   "id": "f85e431c-1ece-46fc-a7d5-ab36acc90d2b",
   "metadata": {},
   "source": [
    "#### flight phases the most accidents"
   ]
  },
  {
   "cell_type": "code",
   "execution_count": null,
   "id": "18880c09-d58a-4b1a-bcab-48df4db15d27",
   "metadata": {},
   "outputs": [],
   "source": [
    "# Count flight phases\n",
    "flight_phases = df[\"Broad_phase_of_flight\"].value_counts()\n"
   ]
  },
  {
   "cell_type": "code",
   "execution_count": null,
   "id": "05fd076a-adfd-4975-a49d-f49d2f77f4ce",
   "metadata": {},
   "outputs": [],
   "source": [
    "\n",
    "# Pie chart\n",
    "plt.figure(figsize=(10,6))\n",
    "plt.pie(flight_phases, labels=flight_phases.index, autopct=\"%1.1f%%\", colors=sns.color_palette(\"pastel\"))\n",
    "plt.title(\"Accident Distribution by Flight Phase\")\n",
    "plt.show()"
   ]
  },
  {
   "cell_type": "markdown",
   "id": "e9137d68-bd2b-4a0a-ae91-9ab4103d74ca",
   "metadata": {},
   "source": [
    "## Weather Conditions During Accidents"
   ]
  },
  {
   "cell_type": "markdown",
   "id": "11ba0c63-6ff0-49c1-9491-43dbb4ca26c6",
   "metadata": {},
   "source": [
    "## How weather affect accidents"
   ]
  },
  {
   "cell_type": "code",
   "execution_count": null,
   "id": "6c4c275a-96ae-4b16-87ad-e6db5ad1ee08",
   "metadata": {},
   "outputs": [],
   "source": [
    "# Count accidents under different weather conditions\n",
    "weather_conditions = df[\"Weather_Condition\"].value_counts()"
   ]
  },
  {
   "cell_type": "code",
   "execution_count": null,
   "id": "fcf1c211-6e7d-48ac-951f-0a7f2651fe1b",
   "metadata": {},
   "outputs": [],
   "source": [
    "# Bar plot\n",
    "plt.figure(figsize=(10,6))\n",
    "sns.barplot(x=weather_conditions.index, y=weather_conditions.values)\n",
    "plt.title(\"Accidents by Weather Conditions\")\n",
    "plt.xlabel(\"Weather Condition\")\n",
    "plt.ylabel(\"Accident Count\")\n",
    "plt.show() #The accidents occurred more in VMC (Visual Meteorological Conditions)"
   ]
  },
  {
   "cell_type": "markdown",
   "id": "119333d2-141c-4822-aa2a-599714a9c81f",
   "metadata": {},
   "source": [
    "## comparing countries with the most accidents"
   ]
  },
  {
   "cell_type": "code",
   "execution_count": null,
   "id": "ebfe1b84-ec2d-4586-97cc-ec2e1a45f6c7",
   "metadata": {},
   "outputs": [],
   "source": [
    "# Count accidents by country\n",
    "country_counts = df_cleaned[\"Country\"].value_counts().head(10)  # Top 10 countries\n"
   ]
  },
  {
   "cell_type": "code",
   "execution_count": null,
   "id": "76347503-ad86-4fa3-95c9-0ad40ad92c3d",
   "metadata": {},
   "outputs": [],
   "source": [
    "# Display the country with the most accidents\n",
    "print(f\"Country with the most accidents: {country_counts.idxmax()} ({country_counts.max()} accidents)\")"
   ]
  },
  {
   "cell_type": "code",
   "execution_count": null,
   "id": "83e7e946-f89f-4fd9-94c7-88f1bf881d0b",
   "metadata": {},
   "outputs": [],
   "source": [
    "# Bar plot for visualization\n",
    "plt.figure(figsize=(12,6))\n",
    "sns.barplot(x=country_counts.index, y=country_counts.values)\n",
    "plt.xticks(rotation=45)\n",
    "plt.title(\"Top 10 Countries with the Most Aviation Accidents\")\n",
    "plt.xlabel(\"Country\")\n",
    "plt.ylabel(\"Accident Count\")\n",
    "plt.show()"
   ]
  },
  {
   "cell_type": "markdown",
   "id": "83543cff-8e74-4f19-a3fc-0dff7f693dbb",
   "metadata": {},
   "source": [
    "# Conclusion and Recommendations"
   ]
  },
  {
   "cell_type": "markdown",
   "id": "82403bdd-46a7-40d4-aad8-abef39c85eb6",
   "metadata": {},
   "source": [
    "## Conclusion\n",
    "1.High-Risk Countries: The analysis revealed that certain countries have significantly higher aviation accident rates, with the United States leading the list. This could be due to a higher number of flights, varying regulatory standards, or environmental factors.\n",
    "\n",
    "2.Trend Over Time: There is a visible fluctuation in accident occurrences over the years, with peaks in specific periods. This could be attributed to technological advancements, improved regulations, or external factors like weather conditions.\n",
    "\n",
    "3.Flight Phases & Risk: A large proportion of accidents occur during takeoff and landing, indicating that these phases are the most critical and risky in aviation operations.\n",
    "\n",
    "4.Weather Influence: A considerable number of accidents happen under adverse weather conditions, highlighting the importance of real-time meteorological monitoring and flight adjustments.\n",
    "\n",
    "5.Aircraft Manufacturers & Types: Certain aircraft manufacturers appear more frequently in accident reports, which could suggest either a higher number of those aircraft in operation or specific safety concerns.\n",
    "\n",
    "## Recommendations\n",
    "1.Enhanced Safety Protocols:\n",
    "Airlines should increase safety checks and training, particularly during the takeoff and landing phases, which are the most accident-prone.\n",
    "Regulators should enforce stricter pilot training and competency assessments.\n",
    "\n",
    "2.Improved Weather Monitoring & Risk Mitigation:\n",
    "Airlines should invest in better weather forecasting systems to reduce accidents related to adverse conditions.\n",
    "Flight plans should be adjusted dynamically based on real-time meteorological data.\n",
    "\n",
    "3.Aircraft Maintenance & Inspection:\n",
    "More frequent aircraft inspections, particularly for models with a history of mechanical failures.\n",
    "Regulatory agencies should monitor and audit manufacturers whose aircraft show higher accident rates.\n",
    "\n",
    "4.Country-Specific Regulations & Oversight:\n",
    "Countries with the highest accident rates should re-evaluate their aviation safety regulations.\n",
    "International aviation bodies (e.g., FAA, ICAO) should collaborate with high-risk countries to improve safety standards.\n",
    "\n",
    "5.Accident Data Analysis for Proactive Prevention:\n",
    "Airlines should leverage AI & data analytics to predict and prevent potential accidents.\n",
    "The industry should adopt big data solutions to analyze past accident trends and improve flight safety.\n",
    "\n",
    "#### Therefore;\n",
    "By addressing these key areas, aviation safety can be significantly improved, reducing both fatalities and financial losses. Collaborative efforts between airlines, manufacturers, and regulatory bodies will be crucial in ensuring safer skies for all."
   ]
  },
  {
   "cell_type": "code",
   "execution_count": null,
   "id": "22ffaab1-5673-4366-ac25-f1543a22159c",
   "metadata": {},
   "outputs": [],
   "source": []
  }
 ],
 "metadata": {
  "kernelspec": {
   "display_name": "Python [conda env:base] *",
   "language": "python",
   "name": "conda-base-py"
  },
  "language_info": {
   "codemirror_mode": {
    "name": "ipython",
    "version": 3
   },
   "file_extension": ".py",
   "mimetype": "text/x-python",
   "name": "python",
   "nbconvert_exporter": "python",
   "pygments_lexer": "ipython3",
   "version": "3.12.7"
  }
 },
 "nbformat": 4,
 "nbformat_minor": 5
}
